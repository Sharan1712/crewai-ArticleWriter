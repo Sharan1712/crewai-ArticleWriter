{
 "cells": [
  {
   "cell_type": "code",
   "execution_count": null,
   "metadata": {},
   "outputs": [],
   "source": [
    "import warnings\n",
    "warnings.filterwarnings('ignore')"
   ]
  },
  {
   "cell_type": "code",
   "execution_count": null,
   "metadata": {},
   "outputs": [],
   "source": [
    "from dotenv import load_dotenv\n",
    "load_dotenv()"
   ]
  },
  {
   "cell_type": "code",
   "execution_count": null,
   "metadata": {},
   "outputs": [],
   "source": [
    "from langchain_community.llms import HuggingFaceHub\n",
    "from crewai import LLM\n",
    "import os\n",
    "\n",
    "# Setting up the LLMs to use for our agents.\n",
    "# We can also keep different LLMs for different agents\n",
    "\n",
    "# llm = HuggingFaceHub(\n",
    "#     repo_id = \"mistralai/Mistral-7B-Instruct-v0.3\",\n",
    "#     huggingfacehub_api_token = os.getenv(\"HF_TOKEN\"),\n",
    "#     task = \"text-generation\",\n",
    "# )\n",
    "\n",
    "llm = LLM(model = \"openai/gpt-4o-mini\")"
   ]
  },
  {
   "cell_type": "markdown",
   "metadata": {},
   "source": [
    "### Initialize the Agents"
   ]
  },
  {
   "cell_type": "code",
   "execution_count": null,
   "metadata": {},
   "outputs": [],
   "source": [
    "from crewai import Agent, Task, Crew"
   ]
  },
  {
   "cell_type": "code",
   "execution_count": null,
   "metadata": {},
   "outputs": [],
   "source": [
    "# Setting up the Content Planner agent which will plan on writing for the article\n",
    "# The agent's goal is to plan by collecting information for the Writer\n",
    "\n",
    "planner = Agent(\n",
    "    role = \"Content Planner\",\n",
    "    goal = \"Plan engaging and factually accurate content on {topic}\",\n",
    "    backstory = \"\"\"You're working on planning a blog article about the topic: {topic}. \n",
    "    You collect information that helps the audience learn something and make informed decisions. \n",
    "    Your work is the basis for the Content Writer to write an article on this topic.\"\"\",\n",
    "    llm = llm,\n",
    "    allow_delegation = False,\n",
    "\tverbose = True\n",
    ")"
   ]
  },
  {
   "cell_type": "code",
   "execution_count": null,
   "metadata": {},
   "outputs": [],
   "source": [
    "# Setting up the Content Writer Agent\n",
    "# It is tasked to use the information given by the content planner and write an article about the topic\n",
    "\n",
    "writer = Agent(\n",
    "    role = \"Content Writer\",\n",
    "    goal = \"\"\"Write insightful and factually accurate opinion piece about the topic: {topic}\"\"\",\n",
    "    backstory = \"\"\"You're working on a writing a new opinion piece about the topic: {topic}. \n",
    "    You base your writing on the work of the Content Planner, who provides an outline and relevant context about the topic. \n",
    "    You follow the main objectives and direction of the outline, as provide by the Content Planner. \n",
    "    You also provide objective and impartial insights and back them up with information provide by the Content Planner. \n",
    "    You acknowledge in your opinion piece when your statements are opinions as opposed to objective statements.\"\"\",\n",
    "    llm = llm,\n",
    "    allow_delegation = False,\n",
    "    verbose = True\n",
    ")"
   ]
  },
  {
   "cell_type": "code",
   "execution_count": null,
   "metadata": {},
   "outputs": [],
   "source": [
    "# Setting up the Editor Agent\n",
    "# It is tasked to review the article written by the Content Writer Agent and edit it if necessary\n",
    "editor = Agent(\n",
    "    role = \"Editor\",\n",
    "    goal = \"Edit a given blog post to align with the writing style of the organization.\",\n",
    "    backstory = \"\"\"You are an editor who receives a blog post from the Content Writer. \n",
    "    Your goal is to review the blog post to ensure that it follows journalistic best practices, \n",
    "    provides balanced viewpoints when providing opinions or assertions, and also avoids major controversial topics \n",
    "    or opinions when possible.\"\"\",\n",
    "    llm = llm,\n",
    "    allow_delegation = False,\n",
    "    verbose = True\n",
    ")"
   ]
  },
  {
   "cell_type": "markdown",
   "metadata": {},
   "source": [
    "### Initialize the Tasks"
   ]
  },
  {
   "cell_type": "code",
   "execution_count": null,
   "metadata": {},
   "outputs": [],
   "source": [
    "\n",
    "plan = Task(\n",
    "    description = \"\"\"1. Prioritize the latest trends, key players, and noteworthy news on {topic}. \n",
    "    2. Identify the target audience, considering their interests and pain points. \n",
    "    3. Develop a detailed content outline including an introduction, key points, and a call to action. \n",
    "    4. Include SEO keywords and relevant data or sources.\"\"\",\n",
    "    expected_output = \"\"\"A comprehensive content plan document with an outline, audience analysis, SEO keywords, and resources.\"\"\",\n",
    "    agent = planner,\n",
    ")"
   ]
  },
  {
   "cell_type": "code",
   "execution_count": null,
   "metadata": {},
   "outputs": [],
   "source": [
    "write = Task(\n",
    "    description = \"\"\"1. Use the content plan to craft a compelling blog post on {topic}. \n",
    "    2. Incorporate SEO keywords naturally. \n",
    "    3. Sections/Subtitles are properly named in an engaging manner. \n",
    "    4. Ensure the post is structured with an engaging introduction, insightful body, and a summarizing conclusion. \n",
    "    5. Proofread for grammatical errors and alignment with the brand's voice.\"\"\",\n",
    "    expected_output = \"A well-written blog post in markdown format, ready for publication, each section should have 2 or 3 paragraphs.\",\n",
    "    agent = writer,\n",
    ")"
   ]
  },
  {
   "cell_type": "code",
   "execution_count": null,
   "metadata": {},
   "outputs": [],
   "source": [
    "edit = Task(\n",
    "    description = \"Proofread the given blog post for grammatical errors and alignment with the brand's voice.\",\n",
    "    expected_output = \"A well-written blog post in markdown format, ready for publication, each section should have 2 or 3 paragraphs.\",\n",
    "    agent = editor\n",
    ")"
   ]
  },
  {
   "cell_type": "markdown",
   "metadata": {},
   "source": [
    "### Create the Crew"
   ]
  },
  {
   "cell_type": "code",
   "execution_count": null,
   "metadata": {},
   "outputs": [],
   "source": [
    "crew = Crew(\n",
    "    agents = [planner, writer, editor],\n",
    "    tasks = [plan, write, edit],\n",
    "    verbose = True\n",
    ")"
   ]
  },
  {
   "cell_type": "code",
   "execution_count": null,
   "metadata": {},
   "outputs": [],
   "source": [
    "result = crew.kickoff(inputs = {\"topic\": \"Artificial Intelligence\"})"
   ]
  },
  {
   "cell_type": "code",
   "execution_count": null,
   "metadata": {},
   "outputs": [],
   "source": [
    "from IPython.display import Markdown\n",
    "Markdown(result.raw)"
   ]
  },
  {
   "cell_type": "code",
   "execution_count": null,
   "metadata": {},
   "outputs": [],
   "source": []
  }
 ],
 "metadata": {
  "kernelspec": {
   "display_name": "crewai_env",
   "language": "python",
   "name": "python3"
  },
  "language_info": {
   "codemirror_mode": {
    "name": "ipython",
    "version": 3
   },
   "file_extension": ".py",
   "mimetype": "text/x-python",
   "name": "python",
   "nbconvert_exporter": "python",
   "pygments_lexer": "ipython3",
   "version": "3.11.11"
  }
 },
 "nbformat": 4,
 "nbformat_minor": 2
}
