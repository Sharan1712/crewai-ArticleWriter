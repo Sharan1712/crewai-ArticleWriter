{
 "cells": [
  {
   "cell_type": "code",
   "execution_count": null,
   "metadata": {},
   "outputs": [],
   "source": [
    "import warnings\n",
    "warnings.filterwarnings('ignore')"
   ]
  },
  {
   "cell_type": "code",
   "execution_count": null,
   "metadata": {},
   "outputs": [],
   "source": [
    "from dotenv import load_dotenv\n",
    "load_dotenv()"
   ]
  },
  {
   "cell_type": "code",
   "execution_count": null,
   "metadata": {},
   "outputs": [],
   "source": [
    "from crewai import Agent, Task, Crew"
   ]
  },
  {
   "cell_type": "code",
   "execution_count": null,
   "metadata": {},
   "outputs": [],
   "source": [
    "planner = Agent(\n",
    "    role = \"Content Planner\",\n",
    "    goal = \"Plan engaging and factually accurate content on {topic}\",\n",
    "    backstory = \"\"\"You're working on planning a blog article about the topic: {topic}. \n",
    "    You collect information that helps the audience learn something and make informed decisions. \n",
    "    Your work is the basis for the Content Writer to write an article on this topic.\"\"\",\n",
    "    allow_delegation = False,\n",
    "\tverbose = True\n",
    ")"
   ]
  },
  {
   "cell_type": "code",
   "execution_count": null,
   "metadata": {},
   "outputs": [],
   "source": [
    "writer = Agent(\n",
    "    role = \"Content Writer\",\n",
    "    goal = \"\"\"Write insightful and factually accurate opinion piece about the topic: {topic}\"\"\",\n",
    "    backstory = \"\"\"You're working on a writing a new opinion piece about the topic: {topic}. \n",
    "    You base your writing on the work of the Content Planner, who provides an outline and relevant context about the topic. \n",
    "    You follow the main objectives and direction of the outline, as provide by the Content Planner. \n",
    "    You also provide objective and impartial insights and back them up with information provide by the Content Planner. \n",
    "    You acknowledge in your opinion piece when your statements are opinions as opposed to objective statements.\"\"\",\n",
    "    allow_delegation = False,\n",
    "    verbose = True\n",
    ")"
   ]
  },
  {
   "cell_type": "code",
   "execution_count": null,
   "metadata": {},
   "outputs": [],
   "source": [
    "editor = Agent(\n",
    "    role = \"Editor\",\n",
    "    goal = \"Edit a given blog post to align with the writing style of the organization.\",\n",
    "    backstory = \"\"\"You are an editor who receives a blog post from the Content Writer. \n",
    "    Your goal is to review the blog post to ensure that it follows journalistic best practices, \n",
    "    provides balanced viewpoints when providing opinions or assertions, and also avoids major controversial topics \n",
    "    or opinions when possible.\"\"\",\n",
    "    allow_delegation = False,\n",
    "    verbose = True\n",
    ")"
   ]
  }
 ],
 "metadata": {
  "kernelspec": {
   "display_name": "crewai_env",
   "language": "python",
   "name": "python3"
  },
  "language_info": {
   "codemirror_mode": {
    "name": "ipython",
    "version": 3
   },
   "file_extension": ".py",
   "mimetype": "text/x-python",
   "name": "python",
   "nbconvert_exporter": "python",
   "pygments_lexer": "ipython3",
   "version": "3.11.11"
  }
 },
 "nbformat": 4,
 "nbformat_minor": 2
}
